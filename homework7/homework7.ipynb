{
 "cells": [
  {
   "cell_type": "markdown",
   "metadata": {},
   "source": [
    "# Homework 7"
   ]
  },
  {
   "cell_type": "markdown",
   "metadata": {},
   "source": [
    "Danny Witt\n",
    "10/31/2018"
   ]
  },
  {
   "cell_type": "markdown",
   "metadata": {},
   "source": [
    "## Problem 1. 50 Points\n",
    "You are given a **string** that contains $N$ uppercase English letters separated by a **|**. For example:\n",
    "\n",
    "```\n",
    "A|A|Z\n",
    "```\n",
    "\n",
    "For a given integer $I$, you can select any subset of length $I$ from the string. Assume that all subsets are selected uniformly, order doesn't matter, and you can only generate subsets for letters (don't include the $|$). For the example given above, if I=2, the complete sample space would be:\n",
    "```\n",
    "('A', 'A'), ('A', 'Z'), ('A', 'Z')\n",
    "```\n",
    "\n",
    "**Find the probability that at least one of the subsets generated will contain the letter Z.** For example, given the example above the answer would be 0.666666.\n",
    "\n",
    "Use `functional programming` and `itertools` to build a solution. Your answer should generalize and work for other similar examples like the one above.\n",
    "\n",
    "**HINT**: If I have the tuple `greeting = ('hello', 'world')`, I can search for hello and create a boolean as follows: \n",
    "\n",
    "(greeting.count('hello')>0)"
   ]
  },
  {
   "cell_type": "code",
   "execution_count": 80,
   "metadata": {},
   "outputs": [
    {
     "name": "stdout",
     "output_type": "stream",
     "text": [
      "The probability of A being in combinations of size i=2 is 71.43%.\n"
     ]
    }
   ],
   "source": [
    "def string_to_tups(string, i):\n",
    "   #Convert a string with '|' delimiters into all possible distinct tuple\n",
    "   #pairs (i.e., combinations) of the letters from string argument.\n",
    "   #1. Remove delimiters to get string of letters\n",
    "   import re\n",
    "   delim = '|'\n",
    "   just_letters = re.split(\"[\"+\"//\".join(delim)+\"]\", string)\n",
    "   #2. Convert string of letters into tuples of size \"i\" with all possible unique\n",
    "   #combinations of letters\n",
    "   import itertools\n",
    "   tuple_i_combinations = list(itertools.combinations(just_letters, i))\n",
    "   return tuple_i_combinations\n",
    "\n",
    "\n",
    "def letter_probs(the_string, i, letter):\n",
    "   #import itertools\n",
    "    list_of_tups = string_to_tups(the_string, i)\n",
    "    count_letter_in_tups = 0\n",
    "    for tup in list_of_tups:\n",
    "        if tup.count(letter) > 0:\n",
    "           count_letter_in_tups += 1\n",
    "        else:\n",
    "           continue\n",
    "    probability = ((count_letter_in_tups) / (len(list_of_tups)))*100\n",
    "    return print('The probability of {} being in combinations of size i={} is {:.2f}%.'\n",
    "                 .format(letter, i, probability))\n",
    "\n",
    "###Test### \n",
    "\n",
    "#Input string in given format, size of combinations, and letter of interest... \n",
    "practice_string = 'A|A|A|B|B|C|D'\n",
    "size = 2\n",
    "letter = 'A'\n",
    "\n",
    "letter_probs(practice_string, size, letter)"
   ]
  },
  {
   "cell_type": "markdown",
   "metadata": {},
   "source": [
    "## Problem 2. 25 Points\n",
    "You've just been hired by Tesla! Your first job is to create a new python type that is capable of introspecting the most important part of the car - the battery!. Create this new python type so that when a battery is created it has 100% power. It's likely that power will change a lot over time, so make sure that the way in which the battery power is set and get is capable of being changed without having to change the api."
   ]
  },
  {
   "cell_type": "code",
   "execution_count": 84,
   "metadata": {},
   "outputs": [
    {
     "data": {
      "text/plain": [
       "Battery Power is 100%."
      ]
     },
     "execution_count": 84,
     "metadata": {},
     "output_type": "execute_result"
    }
   ],
   "source": [
    "class Battery:\n",
    "    \"\"\"Goal: introspect the batter level of the Tesla Model S.\"\"\"\n",
    "    \n",
    "    def __init__(self, power = 100):\n",
    "        self.power = power\n",
    "        return\n",
    "    \n",
    "    @property\n",
    "    def power(self):\n",
    "        return self._power\n",
    "        \n",
    "    @power.setter\n",
    "    def power(self, pwr_level):\n",
    "        if pwr_level > 100 or pwr_level < 0:\n",
    "            raise ValueError(\"Battery power level out of possible range.\")\n",
    "        self._power = pwr_level\n",
    "        \n",
    "    def __repr__(self):\n",
    "        \"\"\"String representation of class objects.\"\"\"\n",
    "        return 'Battery Power is {}%.'.format(self.power)\n",
    "\n",
    "##Test##\n",
    "Battery()"
   ]
  },
  {
   "cell_type": "markdown",
   "metadata": {},
   "source": [
    "## Problem 3. 25 Points\n",
    "Now, it's time to create the `Car` type. This type should inherit the Battery type.  \n",
    "1. Your first job with the `Car` type is to create a method called `draw`. This method should create an iterator that decrements the battery's power by 1 each time it is called. Go ahead and instantiate this iterator every time a Car type is built.  \n",
    "\n",
    "\n",
    "2. Second, create a method called `throttle`. Each time throttle is called it returns the current power of the battery by executing next on the iterator built from `draw`."
   ]
  },
  {
   "cell_type": "code",
   "execution_count": 86,
   "metadata": {},
   "outputs": [
    {
     "name": "stdout",
     "output_type": "stream",
     "text": [
      "Battery Power is 100%.\n",
      "Hitting the throttle!\n",
      "Battery Power is now 99%.\n",
      "Hitting the throttle!\n",
      "Battery Power is now 98%.\n",
      "Hitting the throttle!\n",
      "Battery Power is now 97%.\n",
      "Hitting the throttle!\n",
      "Battery Power is now 96%.\n"
     ]
    }
   ],
   "source": [
    "#3 Car Class\n",
    "        \n",
    "class Car(Battery):\n",
    "    \"\"\"Car should inherit the Battery type. \n",
    "        #1 contains method called draw \n",
    "        #2 contains method called throttle (executes iterator with next)\"\"\"\n",
    "    def __init__(self, power = 100):\n",
    "        \"\"\"initialize type Car, with inheritance from Battery class\"\"\"\n",
    "        super().__init__(power)\n",
    "        self.iterator = self.draw()\n",
    "        return\n",
    "    \n",
    "    def draw(self):\n",
    "        \"\"\"(returns iterator to decrease -1% from batter pwr)\"\"\"\n",
    "        self.decrease_pwr = iter(range((self.power-1), 0, -1))\n",
    "        return self.decrease_pwr\n",
    "        \n",
    "    def throttle(self):\n",
    "        \"\"\"returns current power of battery by executing next() on iterator built from draw()\"\"\"\n",
    "        print('Hitting the throttle!')\n",
    "        return 'Battery Power is now {}%.'.format(next(self.iterator))\n",
    "\n",
    "    \n",
    "##Test##\n",
    "test_car = Car()\n",
    "print(test_car)\n",
    "print(test_car.throttle())\n",
    "print(test_car.throttle())\n",
    "print(test_car.throttle())\n",
    "print(test_car.throttle())\n",
    "    "
   ]
  },
  {
   "cell_type": "code",
   "execution_count": null,
   "metadata": {},
   "outputs": [],
   "source": []
  }
 ],
 "metadata": {
  "kernelspec": {
   "display_name": "Python 3",
   "language": "python",
   "name": "python3"
  },
  "language_info": {
   "codemirror_mode": {
    "name": "ipython",
    "version": 3
   },
   "file_extension": ".py",
   "mimetype": "text/x-python",
   "name": "python",
   "nbconvert_exporter": "python",
   "pygments_lexer": "ipython3",
   "version": "3.6.5"
  }
 },
 "nbformat": 4,
 "nbformat_minor": 2
}
